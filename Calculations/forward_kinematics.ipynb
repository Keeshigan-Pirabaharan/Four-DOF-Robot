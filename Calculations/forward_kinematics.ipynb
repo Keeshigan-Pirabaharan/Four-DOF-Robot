{
 "cells": [
  {
   "cell_type": "code",
   "execution_count": 2,
   "metadata": {},
   "outputs": [],
   "source": [
    "import math"
   ]
  },
  {
   "cell_type": "code",
   "execution_count": 3,
   "metadata": {},
   "outputs": [],
   "source": [
    "L1 = 228.0\n",
    "L2 = 136.5"
   ]
  },
  {
   "cell_type": "code",
   "execution_count": 4,
   "metadata": {},
   "outputs": [],
   "source": [
    "\n",
    "def forward_kinematics(j1, j2, jz):\n",
    "    # Z axis is only dependent on jz\n",
    "\n",
    "    # Convert to radians\n",
    "    t1 = math.radians(j1)\n",
    "    t2 = math.radians(j2)\n",
    "\n",
    "    # Calculate the x and y coordinates\n",
    "    xP = round(L1 * math.cos(t1) + L2 * math.cos(t1 + t2), 2)\n",
    "    yP = round(L1 * math.sin(t1) + L2 * math.sin(t1 + t2), 2)\n",
    "    zP = jz\n",
    "\n",
    "    return (xP, yP, zP)"
   ]
  },
  {
   "cell_type": "code",
   "execution_count": 9,
   "metadata": {},
   "outputs": [
    {
     "name": "stdout",
     "output_type": "stream",
     "text": [
      "(364.5, 0.0, 0)\n"
     ]
    }
   ],
   "source": [
    "print(forward_kinematics(0, 0, 0))"
   ]
  },
  {
   "cell_type": "code",
   "execution_count": null,
   "metadata": {},
   "outputs": [],
   "source": []
  }
 ],
 "metadata": {
  "kernelspec": {
   "display_name": "robot",
   "language": "python",
   "name": "python3"
  },
  "language_info": {
   "codemirror_mode": {
    "name": "ipython",
    "version": 3
   },
   "file_extension": ".py",
   "mimetype": "text/x-python",
   "name": "python",
   "nbconvert_exporter": "python",
   "pygments_lexer": "ipython3",
   "version": "3.9.21"
  }
 },
 "nbformat": 4,
 "nbformat_minor": 2
}
