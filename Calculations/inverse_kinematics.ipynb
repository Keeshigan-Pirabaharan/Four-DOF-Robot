{
 "cells": [
  {
   "cell_type": "code",
   "execution_count": 77,
   "metadata": {},
   "outputs": [],
   "source": [
    "import math"
   ]
  },
  {
   "cell_type": "code",
   "execution_count": 78,
   "metadata": {},
   "outputs": [],
   "source": [
    "L1 = 228.0\n",
    "L2 = 136.5"
   ]
  },
  {
   "cell_type": "code",
   "execution_count": 95,
   "metadata": {},
   "outputs": [],
   "source": [
    "def inverse_kinematics_pos(x, y, z):\n",
    "    # x, y, z are the desired position of the end effector\n",
    "\n",
    "    t2 = math.acos((x**2 + y**2 - L1**2 - L2**2) / (2 * L1 * L2))\n",
    "    j2 = round(math.degrees(t2), 1)\n",
    "\n",
    "    t1 = math.atan2(y, x) - math.atan2(L2 * math.sin(t2), L1 + L2 * math.cos(t2))\n",
    "    j1 = round(math.degrees(t1), 1)\n",
    "\n",
    "    jz = z\n",
    "    \n",
    "    return (j1, j2, jz)"
   ]
  },
  {
   "cell_type": "code",
   "execution_count": 96,
   "metadata": {},
   "outputs": [],
   "source": [
    "def inverse_kinematics_neg(x, y, z):\n",
    "    # x, y, z are the desired position of the end effector\n",
    "\n",
    "    t2 = -math.acos((x**2 + y**2 - L1**2 - L2**2) / (2 * L1 * L2))\n",
    "    j2 = round(math.degrees(t2), 1)\n",
    "\n",
    "    t1 = math.atan2(y, x) - math.atan2(L2 * math.sin(t2), L1 + L2 * math.cos(t2))\n",
    "    j1 = round(math.degrees(t1), 1)\n",
    "\n",
    "    jz = z\n",
    "\n",
    "    return (j1, j2, jz)"
   ]
  },
  {
   "cell_type": "code",
   "execution_count": 97,
   "metadata": {},
   "outputs": [
    {
     "name": "stdout",
     "output_type": "stream",
     "text": [
      "(11.9, 45.0, 0)\n",
      "(45.0, -45.0, 0)\n"
     ]
    }
   ],
   "source": [
    "print(inverse_kinematics_pos(297.72, 161.22, 0))\n",
    "print(inverse_kinematics_neg(297.72, 161.22, 0))"
   ]
  },
  {
   "cell_type": "code",
   "execution_count": null,
   "metadata": {},
   "outputs": [],
   "source": []
  }
 ],
 "metadata": {
  "kernelspec": {
   "display_name": "robot",
   "language": "python",
   "name": "python3"
  },
  "language_info": {
   "codemirror_mode": {
    "name": "ipython",
    "version": 3
   },
   "file_extension": ".py",
   "mimetype": "text/x-python",
   "name": "python",
   "nbconvert_exporter": "python",
   "pygments_lexer": "ipython3",
   "version": "3.9.21"
  }
 },
 "nbformat": 4,
 "nbformat_minor": 2
}
