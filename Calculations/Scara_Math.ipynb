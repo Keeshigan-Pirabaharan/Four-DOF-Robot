{
 "cells": [
  {
   "cell_type": "code",
   "execution_count": 1,
   "metadata": {},
   "outputs": [],
   "source": [
    "import sympy as sp"
   ]
  },
  {
   "cell_type": "code",
   "execution_count": 2,
   "metadata": {},
   "outputs": [],
   "source": [
    "t1, t2, t3, d1 = sp.symbols('t1 t2 t3 d1')"
   ]
  },
  {
   "cell_type": "code",
   "execution_count": 3,
   "metadata": {},
   "outputs": [],
   "source": [
    "a1 = 228.0\n",
    "a2 = 136.5\n",
    "d3 = 60\n",
    "d4 = 25\n",
    "d5 = 105"
   ]
  },
  {
   "cell_type": "code",
   "execution_count": 4,
   "metadata": {},
   "outputs": [],
   "source": [
    "DH = sp.Matrix(\n",
    "    [\n",
    "        [sp.pi, 0, d1, 0],\n",
    "        [0, 0, 0, t1],\n",
    "        [0, a1, d3, t2],\n",
    "        [sp.pi, a2, d4, t3],\n",
    "        [0, 0, d5, 0],\n",
    "    ]\n",
    ")"
   ]
  },
  {
   "cell_type": "code",
   "execution_count": 5,
   "metadata": {},
   "outputs": [],
   "source": [
    "def T_Matrix(params):\n",
    "    alpha, a, d, theta = params\n",
    "    return sp.Matrix(\n",
    "        [\n",
    "            [sp.cos(theta), -sp.sin(theta), 0, a],\n",
    "            [\n",
    "                sp.sin(theta) * sp.cos(alpha),\n",
    "                sp.cos(theta) * sp.cos(alpha),\n",
    "                -sp.sin(alpha),\n",
    "                -sp.sin(alpha) * d,\n",
    "            ],\n",
    "            [\n",
    "                sp.sin(theta) * sp.sin(alpha),\n",
    "                sp.cos(theta) * sp.sin(alpha),\n",
    "                sp.cos(alpha),\n",
    "                sp.cos(alpha) * d,\n",
    "            ],\n",
    "            [0, 0, 0, 1],\n",
    "        ]\n",
    "    )"
   ]
  },
  {
   "cell_type": "code",
   "execution_count": 6,
   "metadata": {},
   "outputs": [],
   "source": [
    "T01 = T_Matrix(DH.row(0))\n",
    "T12 = T_Matrix(DH.row(1))\n",
    "T23 = T_Matrix(DH.row(2))\n",
    "T34 = T_Matrix(DH.row(3))\n",
    "T45 = T_Matrix(DH.row(4))"
   ]
  },
  {
   "cell_type": "code",
   "execution_count": 7,
   "metadata": {},
   "outputs": [],
   "source": [
    "T05exp = T01 * T12 * T23 * T34 * T45\n",
    "T05 = sp.simplify(T05exp)"
   ]
  },
  {
   "cell_type": "code",
   "execution_count": 8,
   "metadata": {},
   "outputs": [
    {
     "name": "stdout",
     "output_type": "stream",
     "text": [
      "⎡cos(t₁ + t₂ - t₃)   sin(t₁ + t₂ - t₃)  0  228.0⋅cos(t₁) + 136.5⋅cos(t₁ + t₂) ⎤\n",
      "⎢                                                                             ⎥\n",
      "⎢-sin(t₁ + t₂ - t₃)  cos(t₁ + t₂ - t₃)  0  -228.0⋅sin(t₁) - 136.5⋅sin(t₁ + t₂)⎥\n",
      "⎢                                                                             ⎥\n",
      "⎢        0                   0          1                70 - d₁              ⎥\n",
      "⎢                                                                             ⎥\n",
      "⎣        0                   0          0                   1                 ⎦\n"
     ]
    }
   ],
   "source": [
    "sp.pprint(T05)"
   ]
  },
  {
   "cell_type": "code",
   "execution_count": null,
   "metadata": {},
   "outputs": [],
   "source": []
  }
 ],
 "metadata": {
  "kernelspec": {
   "display_name": "robot",
   "language": "python",
   "name": "python3"
  },
  "language_info": {
   "codemirror_mode": {
    "name": "ipython",
    "version": 3
   },
   "file_extension": ".py",
   "mimetype": "text/x-python",
   "name": "python",
   "nbconvert_exporter": "python",
   "pygments_lexer": "ipython3",
   "version": "3.9.21"
  }
 },
 "nbformat": 4,
 "nbformat_minor": 2
}
